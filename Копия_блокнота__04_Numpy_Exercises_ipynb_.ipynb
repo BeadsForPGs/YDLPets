{
  "cells": [
    {
      "cell_type": "markdown",
      "metadata": {
        "id": "HZi7VZN1Mv7s"
      },
      "source": [
        "# NumPy-упражнения\n",
        "\n",
        "Теперь, когда мы узнали о NumPy, давайте проверим ваши знания. Мы начнем с нескольких простых задач, а затем вам будут заданы более сложные вопросы."
      ]
    },
    {
      "cell_type": "markdown",
      "metadata": {
        "id": "ntAGbI9oMv7-"
      },
      "source": [
        "#### Import NumPy as np"
      ]
    },
    {
      "cell_type": "code",
      "execution_count": null,
      "metadata": {
        "id": "mPmpun7zMv8A"
      },
      "outputs": [],
      "source": [
        "import numpy as np"
      ]
    },
    {
      "cell_type": "markdown",
      "metadata": {
        "id": "a9nQtVOkMv8E"
      },
      "source": [
        "#### Создайте массив из 10 нулей"
      ]
    },
    {
      "cell_type": "code",
      "execution_count": null,
      "metadata": {
        "colab": {
          "base_uri": "https://localhost:8080/"
        },
        "id": "8BYWmrlJMv8G",
        "outputId": "544f2e82-b1d0-4959-ee86-c41d739a9be9"
      },
      "outputs": [
        {
          "output_type": "execute_result",
          "data": {
            "text/plain": [
              "array([0., 0., 0., 0., 0., 0., 0., 0., 0., 0.])"
            ]
          },
          "metadata": {},
          "execution_count": 3
        }
      ],
      "source": [
        "np.zeros(10)"
      ]
    },
    {
      "cell_type": "code",
      "execution_count": null,
      "metadata": {
        "id": "5RFmvC-1Mv8J",
        "outputId": "2b2a4152-51a1-48bb-80b2-64c06a490709"
      },
      "outputs": [
        {
          "data": {
            "text/plain": [
              "array([0., 0., 0., 0., 0., 0., 0., 0., 0., 0.])"
            ]
          },
          "execution_count": 2,
          "metadata": {},
          "output_type": "execute_result"
        }
      ],
      "source": []
    },
    {
      "cell_type": "markdown",
      "metadata": {
        "id": "cLFZ4t7sMv8K"
      },
      "source": [
        "#### Создайте массив из 10 единиц"
      ]
    },
    {
      "cell_type": "code",
      "execution_count": null,
      "metadata": {
        "colab": {
          "base_uri": "https://localhost:8080/"
        },
        "id": "WIi9tQBmMv8L",
        "outputId": "7920a749-f27c-4a27-a01c-d89955b30021"
      },
      "outputs": [
        {
          "output_type": "execute_result",
          "data": {
            "text/plain": [
              "array([1., 1., 1., 1., 1., 1., 1., 1., 1., 1.])"
            ]
          },
          "metadata": {},
          "execution_count": 4
        }
      ],
      "source": [
        "np.ones(10)"
      ]
    },
    {
      "cell_type": "code",
      "execution_count": null,
      "metadata": {
        "id": "YV4A2IgEMv8M",
        "outputId": "c89d7b6c-6264-4b34-b377-8911c96055ea"
      },
      "outputs": [
        {
          "data": {
            "text/plain": [
              "array([1., 1., 1., 1., 1., 1., 1., 1., 1., 1.])"
            ]
          },
          "execution_count": 3,
          "metadata": {},
          "output_type": "execute_result"
        }
      ],
      "source": []
    },
    {
      "cell_type": "markdown",
      "metadata": {
        "id": "bJsmVPiMMv8N"
      },
      "source": [
        "#### Создайте массив из 10 семёрок"
      ]
    },
    {
      "cell_type": "code",
      "source": [],
      "metadata": {
        "id": "EDBp2gaKNy8W"
      },
      "execution_count": null,
      "outputs": []
    },
    {
      "cell_type": "code",
      "execution_count": null,
      "metadata": {
        "colab": {
          "base_uri": "https://localhost:8080/"
        },
        "id": "bMO-zLlNMv8P",
        "outputId": "61719b05-5c24-4af2-e547-e8287602f987"
      },
      "outputs": [
        {
          "output_type": "stream",
          "name": "stdout",
          "text": [
            "[7. 7. 7. 7. 7. 7. 7. 7. 7. 7.]\n"
          ]
        }
      ],
      "source": [
        "arr = np.full(10, 7.)\n",
        "print(arr)"
      ]
    },
    {
      "cell_type": "code",
      "execution_count": null,
      "metadata": {
        "id": "vYF7_6nBMv8P",
        "outputId": "89fa4f09-2283-4605-c505-d2882d14b324"
      },
      "outputs": [
        {
          "data": {
            "text/plain": [
              "array([7., 7., 7., 7., 7., 7., 7., 7., 7., 7.])"
            ]
          },
          "execution_count": 4,
          "metadata": {},
          "output_type": "execute_result"
        }
      ],
      "source": []
    },
    {
      "cell_type": "markdown",
      "metadata": {
        "id": "7Yp0f_eKMv8Q"
      },
      "source": [
        "#### Создайте массив целых чисел от 10 до 60 (включая 60)"
      ]
    },
    {
      "cell_type": "code",
      "execution_count": null,
      "metadata": {
        "colab": {
          "base_uri": "https://localhost:8080/"
        },
        "id": "-pkHRJNZMv8R",
        "outputId": "d581aace-ce3c-410c-abac-cf9111209eee"
      },
      "outputs": [
        {
          "output_type": "stream",
          "name": "stdout",
          "text": [
            "[10 11 12 13 14 15 16 17 18 19 20 21 22 23 24 25 26 27 28 29 30 31 32 33\n",
            " 34 35 36 37 38 39 40 41 42 43 44 45 46 47 48 49 50 51 52 53 54 55 56 57\n",
            " 58 59 60]\n"
          ]
        }
      ],
      "source": [
        "arr = np.arange(10, 61)\n",
        "print(arr)"
      ]
    },
    {
      "cell_type": "markdown",
      "metadata": {
        "id": "HdNtAaPzMv8S"
      },
      "source": [
        "#### Создайте массив всех четных целых чисел от 10 до 50"
      ]
    },
    {
      "cell_type": "code",
      "execution_count": null,
      "metadata": {
        "colab": {
          "base_uri": "https://localhost:8080/"
        },
        "id": "SfRI2V2tMv8U",
        "outputId": "a35b92b5-f92c-4462-80f4-c97231f302b3"
      },
      "outputs": [
        {
          "output_type": "stream",
          "name": "stdout",
          "text": [
            "[10 11 12 13 14 15 16 17 18 19 20 21 22 23 24 25 26 27 28 29 30 31 32 33\n",
            " 34 35 36 37 38 39 40 41 42 43 44 45 46 47 48 49 50]\n"
          ]
        }
      ],
      "source": [
        "arr = np.arange(10, 51)\n",
        "print(arr)"
      ]
    },
    {
      "cell_type": "markdown",
      "metadata": {
        "id": "dXQgdNAyMv8U"
      },
      "source": [
        "#### Создайте матрицу 3x3 со значениями в диапазоне от 1 до 9."
      ]
    },
    {
      "cell_type": "code",
      "execution_count": null,
      "metadata": {
        "colab": {
          "base_uri": "https://localhost:8080/"
        },
        "id": "4lFhx0IpMv8V",
        "outputId": "213dd0fc-f398-4566-9e6b-ef5f265d23b5"
      },
      "outputs": [
        {
          "output_type": "stream",
          "name": "stdout",
          "text": [
            "[[1 2 3]\n",
            " [4 5 6]\n",
            " [7 8 9]]\n"
          ]
        }
      ],
      "source": [
        "\n",
        "arr = np.arange(1, 10).reshape(3, 3)\n",
        "print(arr)\n"
      ]
    },
    {
      "cell_type": "markdown",
      "metadata": {
        "id": "mx03mS0SMv8W"
      },
      "source": [
        "#### Создайте единичную матрицу 4x4"
      ]
    },
    {
      "cell_type": "code",
      "execution_count": null,
      "metadata": {
        "colab": {
          "base_uri": "https://localhost:8080/"
        },
        "id": "ui-ICEFPMv8X",
        "outputId": "9ca2cb46-6e43-46d3-8562-d222a5e435db"
      },
      "outputs": [
        {
          "output_type": "stream",
          "name": "stdout",
          "text": [
            "[[1. 0. 0. 0.]\n",
            " [0. 1. 0. 0.]\n",
            " [0. 0. 1. 0.]\n",
            " [0. 0. 0. 1.]]\n"
          ]
        }
      ],
      "source": [
        "arr = np.eye(4)\n",
        "print(arr)"
      ]
    },
    {
      "cell_type": "markdown",
      "metadata": {
        "id": "2gkbpo91Mv8X"
      },
      "source": [
        "#### Используйте NumPy для генерации случайного числа от 0 до 1¶ (результат может отличаться)"
      ]
    },
    {
      "cell_type": "code",
      "execution_count": null,
      "metadata": {
        "colab": {
          "base_uri": "https://localhost:8080/"
        },
        "id": "mecpF__WMv8Z",
        "outputId": "87de46f3-25ea-4232-88d9-79acb4b689be"
      },
      "outputs": [
        {
          "output_type": "stream",
          "name": "stdout",
          "text": [
            "0.1671985932513207\n"
          ]
        }
      ],
      "source": [
        "random_number = np.random.rand()\n",
        "print(random_number)"
      ]
    },
    {
      "cell_type": "markdown",
      "metadata": {
        "id": "wpY-UsJOMv8a"
      },
      "source": [
        "#### Используйте NumPy для создания массива из 25 случайных чисел, выбранных из стандартного нормального распределения."
      ]
    },
    {
      "cell_type": "code",
      "execution_count": null,
      "metadata": {
        "colab": {
          "base_uri": "https://localhost:8080/"
        },
        "id": "9QAezbFjMv8a",
        "outputId": "477e0bc3-8b0e-4e32-b292-e4fbf18b92e4"
      },
      "outputs": [
        {
          "output_type": "stream",
          "name": "stdout",
          "text": [
            "[ 0.6141461   1.26655455  0.03641163 -0.04550924  1.17158066  0.34371015\n",
            " -0.94688745  0.06339997 -0.13700815  0.95675636  1.23730263 -0.39334187\n",
            "  0.29319905  0.55795422 -0.52501064  1.38412182 -0.19560937  0.28016806\n",
            "  0.263692    1.63532954  0.23058206  0.4118036  -0.88502324  0.16793139\n",
            "  0.83302564]\n"
          ]
        }
      ],
      "source": [
        "random_array = np.random.randn(25)\n",
        "print(random_array)"
      ]
    },
    {
      "cell_type": "markdown",
      "metadata": {
        "id": "xiCFxk-dMv8b"
      },
      "source": [
        "#### Создайте следующую матрицу:"
      ]
    },
    {
      "cell_type": "code",
      "execution_count": null,
      "metadata": {
        "colab": {
          "base_uri": "https://localhost:8080/"
        },
        "id": "m8JURRlxMv8b",
        "outputId": "3d48b4e7-da3b-461e-f3a9-3653e5dd7979"
      },
      "outputs": [
        {
          "output_type": "stream",
          "name": "stdout",
          "text": [
            "[[0.01 0.02 0.03 0.04 0.05 0.06 0.07 0.08 0.09 0.1 ]\n",
            " [0.11 0.12 0.13 0.14 0.15 0.16 0.17 0.18 0.19 0.2 ]\n",
            " [0.21 0.22 0.23 0.24 0.25 0.26 0.27 0.28 0.29 0.3 ]\n",
            " [0.31 0.32 0.33 0.34 0.35 0.36 0.37 0.38 0.39 0.4 ]\n",
            " [0.41 0.42 0.43 0.44 0.45 0.46 0.47 0.48 0.49 0.5 ]\n",
            " [0.51 0.52 0.53 0.54 0.55 0.56 0.57 0.58 0.59 0.6 ]\n",
            " [0.61 0.62 0.63 0.64 0.65 0.66 0.67 0.68 0.69 0.7 ]\n",
            " [0.71 0.72 0.73 0.74 0.75 0.76 0.77 0.78 0.79 0.8 ]\n",
            " [0.81 0.82 0.83 0.84 0.85 0.86 0.87 0.88 0.89 0.9 ]\n",
            " [0.91 0.92 0.93 0.94 0.95 0.96 0.97 0.98 0.99 1.  ]]\n"
          ]
        }
      ],
      "source": [
        "arr = np.arange(0.01, 1.01, 0.01).reshape(10, 10)\n",
        "print(arr)"
      ]
    },
    {
      "cell_type": "markdown",
      "metadata": {
        "id": "CWuWTMW3Mv8c"
      },
      "source": [
        "#### Создайте следующую матрицу:"
      ]
    },
    {
      "cell_type": "code",
      "execution_count": null,
      "metadata": {
        "colab": {
          "base_uri": "https://localhost:8080/"
        },
        "id": "VScu0gofMv8d",
        "outputId": "7aed6d1a-f1dc-4fde-ff28-6afbdc9a3c38"
      },
      "outputs": [
        {
          "output_type": "stream",
          "name": "stdout",
          "text": [
            "[[0.01 0.03 0.05 0.07 0.09 0.11 0.13 0.15 0.17 0.19]\n",
            " [0.21 0.23 0.25 0.27 0.29 0.31 0.33 0.35 0.37 0.39]\n",
            " [0.41 0.43 0.45 0.47 0.49 0.51 0.53 0.55 0.57 0.59]\n",
            " [0.61 0.63 0.65 0.67 0.69 0.71 0.73 0.75 0.77 0.79]\n",
            " [0.81 0.83 0.85 0.87 0.89 0.91 0.93 0.95 0.97 0.99]\n",
            " [1.01 1.03 1.05 1.07 1.09 1.11 1.13 1.15 1.17 1.19]\n",
            " [1.21 1.23 1.25 1.27 1.29 1.31 1.33 1.35 1.37 1.39]\n",
            " [1.41 1.43 1.45 1.47 1.49 1.51 1.53 1.55 1.57 1.59]\n",
            " [1.61 1.63 1.65 1.67 1.69 1.71 1.73 1.75 1.77 1.79]\n",
            " [1.81 1.83 1.85 1.87 1.89 1.91 1.93 1.95 1.97 1.99]]\n"
          ]
        }
      ],
      "source": [
        "arr = np.arange(0.01, 2.01, 0.02).reshape(10, 10)\n",
        "print(arr)"
      ]
    },
    {
      "cell_type": "markdown",
      "metadata": {
        "id": "PLM9SIDEMv8d"
      },
      "source": [
        "#### Создайте массив из 20 линейно расположенных точек между 1 и 2:"
      ]
    },
    {
      "cell_type": "code",
      "source": [
        "arr = np.linspace(1, 2, 20)\n",
        "print(arr)"
      ],
      "metadata": {
        "colab": {
          "base_uri": "https://localhost:8080/"
        },
        "id": "saLHo3ETO07r",
        "outputId": "6c35719b-38c9-42c7-9e39-f65f2d6c875a"
      },
      "execution_count": null,
      "outputs": [
        {
          "output_type": "stream",
          "name": "stdout",
          "text": [
            "[1.         1.05263158 1.10526316 1.15789474 1.21052632 1.26315789\n",
            " 1.31578947 1.36842105 1.42105263 1.47368421 1.52631579 1.57894737\n",
            " 1.63157895 1.68421053 1.73684211 1.78947368 1.84210526 1.89473684\n",
            " 1.94736842 2.        ]\n"
          ]
        }
      ]
    },
    {
      "cell_type": "code",
      "execution_count": null,
      "metadata": {
        "id": "lKuT5_HTMv8e",
        "outputId": "83df4e26-dd0f-4034-a479-277072701318"
      },
      "outputs": [
        {
          "data": {
            "text/plain": [
              "array([1.        , 1.05263158, 1.10526316, 1.15789474, 1.21052632,\n",
              "       1.26315789, 1.31578947, 1.36842105, 1.42105263, 1.47368421,\n",
              "       1.52631579, 1.57894737, 1.63157895, 1.68421053, 1.73684211,\n",
              "       1.78947368, 1.84210526, 1.89473684, 1.94736842, 2.        ])"
            ]
          },
          "execution_count": 13,
          "metadata": {},
          "output_type": "execute_result"
        }
      ],
      "source": []
    },
    {
      "cell_type": "markdown",
      "metadata": {
        "id": "cERldhKgMv8e"
      },
      "source": [
        "## Индексация и выбор Numpy\n",
        "\n",
        "Теперь вам будет предоставлено несколько матриц, и вам нужно воспроизвести полученные выходные данные матрицы:"
      ]
    },
    {
      "cell_type": "code",
      "execution_count": null,
      "metadata": {
        "colab": {
          "base_uri": "https://localhost:8080/"
        },
        "id": "XAE0aCUWMv8f",
        "outputId": "8d235672-b03e-4bf9-8f68-3237a52df718"
      },
      "outputs": [
        {
          "output_type": "execute_result",
          "data": {
            "text/plain": [
              "array([[ 1,  2,  3,  4,  5],\n",
              "       [ 6,  7,  8,  9, 10],\n",
              "       [11, 12, 13, 14, 15],\n",
              "       [16, 17, 18, 19, 20],\n",
              "       [21, 22, 23, 24, 25]])"
            ]
          },
          "metadata": {},
          "execution_count": 21
        }
      ],
      "source": [
        "mat = np.arange(1,26).reshape(5,5)\n",
        "mat"
      ]
    },
    {
      "cell_type": "code",
      "execution_count": null,
      "metadata": {
        "id": "c-NxHHz3Mv8g"
      },
      "outputs": [],
      "source": [
        "# НАПИШИТЕ ЗДЕСЬ КОД, КОТОРЫЙ ВОСПРОИЗВОДИТ ВЫВОД ЯЧЕЙКИ НИЖЕ\n",
        "# БУДЬТЕ ОСТОРОЖНЫ, ЧТОБЫ НЕ ЗАПУСТИТЬ ЯЧЕЙКУ НИЖЕ, ИНАЧЕ ВЫ НЕ УДАЛИТЕ ОТВЕТ"
      ]
    },
    {
      "cell_type": "code",
      "execution_count": null,
      "metadata": {
        "id": "dWLR-WIMMv8g"
      },
      "outputs": [],
      "source": []
    },
    {
      "cell_type": "code",
      "execution_count": null,
      "metadata": {
        "colab": {
          "base_uri": "https://localhost:8080/"
        },
        "id": "ZXne2u7KMv8h",
        "outputId": "5c931af3-0adb-4080-a8da-1e2e06bae590"
      },
      "outputs": [
        {
          "output_type": "stream",
          "name": "stdout",
          "text": [
            "[[ 7  8  9]\n",
            " [12 13 14]\n",
            " [17 18 19]]\n"
          ]
        }
      ],
      "source": [
        "sub_mat = mat[1:4, 1:4]\n",
        "print(sub_mat)"
      ]
    },
    {
      "cell_type": "code",
      "execution_count": null,
      "metadata": {
        "id": "ayyuI8wzMv8l"
      },
      "outputs": [],
      "source": [
        "# НАПИШИТЕ ЗДЕСЬ КОД, КОТОРЫЙ ВОСПРОИЗВОДИТ ВЫВОД ЯЧЕЙКИ НИЖЕ\n",
        "# БУДЬТЕ ОСТОРОЖНЫ, ЧТОБЫ НЕ ЗАПУСТИТЬ ЯЧЕЙКУ НИЖЕ, ИНАЧЕ ВЫ НЕ УДАЛИТЕ ОТВЕТ"
      ]
    },
    {
      "cell_type": "code",
      "source": [
        "sub_mat[-1][-1]"
      ],
      "metadata": {
        "colab": {
          "base_uri": "https://localhost:8080/"
        },
        "id": "KoZWdCtDPMmI",
        "outputId": "0b226734-4f88-42fc-bc4b-fa2af4dadfc1"
      },
      "execution_count": null,
      "outputs": [
        {
          "output_type": "execute_result",
          "data": {
            "text/plain": [
              "19"
            ]
          },
          "metadata": {},
          "execution_count": 23
        }
      ]
    },
    {
      "cell_type": "code",
      "execution_count": null,
      "metadata": {
        "id": "39Zihkg7Mv8m",
        "outputId": "9bc02e20-0824-4193-c33a-b3f07099c1d0"
      },
      "outputs": [
        {
          "data": {
            "text/plain": [
              "19"
            ]
          },
          "execution_count": 16,
          "metadata": {},
          "output_type": "execute_result"
        }
      ],
      "source": []
    },
    {
      "cell_type": "code",
      "execution_count": null,
      "metadata": {
        "id": "_Je443KNMv8m"
      },
      "outputs": [],
      "source": [
        "# НАПИШИТЕ ЗДЕСЬ КОД, КОТОРЫЙ ВОСПРОИЗВОДИТ ВЫВОД ЯЧЕЙКИ НИЖЕ\n",
        "# БУДЬТЕ ОСТОРОЖНЫ, ЧТОБЫ НЕ ЗАПУСТИТЬ ЯЧЕЙКУ НИЖЕ, ИНАЧЕ ВЫ НЕ УДАЛИТЕ ОТВЕТ"
      ]
    },
    {
      "cell_type": "code",
      "source": [
        "sub_mat = mat[0:3, 2:3]\n",
        "print(sub_mat)"
      ],
      "metadata": {
        "colab": {
          "base_uri": "https://localhost:8080/"
        },
        "id": "xo7y2rCNPXGY",
        "outputId": "831136d9-cc8b-4731-af60-b6b6bc12f787"
      },
      "execution_count": null,
      "outputs": [
        {
          "output_type": "stream",
          "name": "stdout",
          "text": [
            "[[ 3]\n",
            " [ 8]\n",
            " [13]]\n"
          ]
        }
      ]
    },
    {
      "cell_type": "code",
      "execution_count": null,
      "metadata": {
        "id": "sC3pVz-dMv8n",
        "outputId": "c66cfb42-5a76-4053-fffd-51d9ccb47d68"
      },
      "outputs": [
        {
          "data": {
            "text/plain": [
              "array([[ 3],\n",
              "       [ 8],\n",
              "       [13]])"
            ]
          },
          "execution_count": 17,
          "metadata": {},
          "output_type": "execute_result"
        }
      ],
      "source": []
    },
    {
      "cell_type": "code",
      "execution_count": null,
      "metadata": {
        "id": "ltZ_lDOCMv9B"
      },
      "outputs": [],
      "source": [
        "# НАПИШИТЕ ЗДЕСЬ КОД, КОТОРЫЙ ВОСПРОИЗВОДИТ ВЫВОД ЯЧЕЙКИ НИЖЕ\n",
        "# БУДЬТЕ ОСТОРОЖНЫ, ЧТОБЫ НЕ ЗАПУСТИТЬ ЯЧЕЙКУ НИЖЕ, ИНАЧЕ ВЫ НЕ УДАЛИТЕ ОТВЕТ"
      ]
    },
    {
      "cell_type": "code",
      "source": [
        "sub_mat = mat[4, :]\n",
        "print(sub_mat)"
      ],
      "metadata": {
        "colab": {
          "base_uri": "https://localhost:8080/"
        },
        "id": "A86Ad-jyPvL1",
        "outputId": "e22a0d82-0478-489b-ce5e-3532171f6eb4"
      },
      "execution_count": null,
      "outputs": [
        {
          "output_type": "stream",
          "name": "stdout",
          "text": [
            "[21 22 23 24 25]\n"
          ]
        }
      ]
    },
    {
      "cell_type": "code",
      "execution_count": null,
      "metadata": {
        "id": "Wx3xh17HMv9C",
        "outputId": "8bd38a6e-b26e-499a-b45d-c0ebe9080059"
      },
      "outputs": [
        {
          "data": {
            "text/plain": [
              "array([21, 22, 23, 24, 25])"
            ]
          },
          "execution_count": 18,
          "metadata": {},
          "output_type": "execute_result"
        }
      ],
      "source": []
    },
    {
      "cell_type": "code",
      "execution_count": null,
      "metadata": {
        "id": "5Ly2Qxz2Mv9D"
      },
      "outputs": [],
      "source": [
        "# НАПИШИТЕ ЗДЕСЬ КОД, КОТОРЫЙ ВОСПРОИЗВОДИТ ВЫВОД ЯЧЕЙКИ НИЖЕ\n",
        "# БУДЬТЕ ОСТОРОЖНЫ, ЧТОБЫ НЕ ЗАПУСТИТЬ ЯЧЕЙКУ НИЖЕ, ИНАЧЕ ВЫ НЕ УДАЛИТЕ ОТВЕТ"
      ]
    },
    {
      "cell_type": "code",
      "source": [
        "sub_mat = mat[2:4, :]\n",
        "print(sub_mat)"
      ],
      "metadata": {
        "colab": {
          "base_uri": "https://localhost:8080/"
        },
        "id": "RQ9cNbPtP4DX",
        "outputId": "4d4311a5-7a6c-4e1d-b4fd-3d45a7b50c75"
      },
      "execution_count": null,
      "outputs": [
        {
          "output_type": "stream",
          "name": "stdout",
          "text": [
            "[[11 12 13 14 15]\n",
            " [16 17 18 19 20]]\n"
          ]
        }
      ]
    },
    {
      "cell_type": "code",
      "execution_count": null,
      "metadata": {
        "id": "ioT43ouYMv9E",
        "outputId": "9cc5955a-ae53-4dae-e896-896cda2569e7"
      },
      "outputs": [
        {
          "data": {
            "text/plain": [
              "array([[11, 12, 13, 14, 15],\n",
              "       [16, 17, 18, 19, 20]])"
            ]
          },
          "execution_count": 19,
          "metadata": {},
          "output_type": "execute_result"
        }
      ],
      "source": []
    },
    {
      "cell_type": "markdown",
      "metadata": {
        "id": "X2ygbfvtMv9E"
      },
      "source": [
        "### Теперь сделайте следующее"
      ]
    },
    {
      "cell_type": "markdown",
      "metadata": {
        "id": "vnBYKMusMv9F"
      },
      "source": [
        "#### Получите сумму всех значений в заданной матрице mat"
      ]
    },
    {
      "cell_type": "code",
      "execution_count": null,
      "metadata": {
        "colab": {
          "base_uri": "https://localhost:8080/"
        },
        "id": "2WgZeMFRMv9G",
        "outputId": "7399bfd0-b7c3-4baa-9ff5-e395e196f1e0"
      },
      "outputs": [
        {
          "output_type": "stream",
          "name": "stdout",
          "text": [
            "325\n"
          ]
        }
      ],
      "source": [
        "sum_of_values = np.sum(mat)\n",
        "print(sum_of_values)"
      ]
    },
    {
      "cell_type": "markdown",
      "metadata": {
        "id": "CetewPDuMv9G"
      },
      "source": [
        "#### Получите средне квдратическое отклонение (standard deviation) значений в заданной матрице mat (подсказка: функция .std)"
      ]
    },
    {
      "cell_type": "code",
      "execution_count": null,
      "metadata": {
        "colab": {
          "base_uri": "https://localhost:8080/"
        },
        "id": "d6-KtwNjMv9H",
        "outputId": "38be0044-a9c5-4b13-b61b-87269a55cb96"
      },
      "outputs": [
        {
          "output_type": "stream",
          "name": "stdout",
          "text": [
            "7.211102550927978\n"
          ]
        }
      ],
      "source": [
        "sd= mat.std()\n",
        "print(sd)"
      ]
    },
    {
      "cell_type": "markdown",
      "metadata": {
        "id": "bo9JGPHtMv9I"
      },
      "source": [
        "#### Получить сумму всех столбцов в заданной матрице mat"
      ]
    },
    {
      "cell_type": "code",
      "execution_count": null,
      "metadata": {
        "id": "6WNr8aGLMv9I",
        "outputId": "0c13331c-bed6-453a-a91e-765209d4ec46"
      },
      "outputs": [
        {
          "data": {
            "text/plain": [
              "array([55, 60, 65, 70, 75])"
            ]
          },
          "execution_count": 22,
          "metadata": {},
          "output_type": "execute_result"
        }
      ],
      "source": []
    },
    {
      "cell_type": "code",
      "execution_count": null,
      "metadata": {
        "colab": {
          "base_uri": "https://localhost:8080/"
        },
        "id": "_gW291-hMv9J",
        "outputId": "171aff60-cbe8-460b-fb36-901ff0fed29a"
      },
      "outputs": [
        {
          "output_type": "stream",
          "name": "stdout",
          "text": [
            "[55 60 65 70 75]\n"
          ]
        }
      ],
      "source": [
        "column_sums = np.sum(mat, axis=0)\n",
        "print(column_sums)"
      ]
    }
  ],
  "metadata": {
    "kernelspec": {
      "display_name": "Python 3 (ipykernel)",
      "language": "python",
      "name": "python3"
    },
    "language_info": {
      "codemirror_mode": {
        "name": "ipython",
        "version": 3
      },
      "file_extension": ".py",
      "mimetype": "text/x-python",
      "name": "python",
      "nbconvert_exporter": "python",
      "pygments_lexer": "ipython3",
      "version": "3.10.11"
    },
    "colab": {
      "provenance": []
    }
  },
  "nbformat": 4,
  "nbformat_minor": 0
}